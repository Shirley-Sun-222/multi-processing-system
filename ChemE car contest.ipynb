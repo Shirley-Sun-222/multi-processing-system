{
 "cells": [
  {
   "cell_type": "markdown",
   "id": "93f85666-1b98-447d-8a88-2f1cb2f9c036",
   "metadata": {},
   "source": [
    "# AI-driven ChemE car Competition"
   ]
  },
  {
   "cell_type": "markdown",
   "id": "35974047-e3ac-4f0d-9859-a9a029a8354f",
   "metadata": {},
   "source": [
    "## Manual tunning and control\n",
    "\n",
    "注意：这里修改了颜色识别的代码。\n",
    "\n",
    "为了更加可靠的识别颜色，这里使用了HSV颜色代码，HSV的数值代表以下意思：H (Hue): 0–360 degrees；S (Saturation): 0–100 (percent)；V (Value): 0–100 (percent)。\n",
    "\n",
    "可以使用以下链接挑选颜色：\n",
    "\n",
    "颜色挑选：https://colorpicker.me/#e5fe1d\n",
    "\n",
    "上传图片挑选颜色：https://redketchup.io/color-picker\n",
    "\n",
    "HSV lower color里面的每一项数值需要对应小于HSV upper color，比如hsv_lower = [200, 0 ,0], hsv_upper = [200, 100 ,100]。但从定义上将S和V的数值大意味着更鲜艳更亮的颜色，所以在碘钟反应中选择的浅黄应该对应hsv_upper，深黄对应比如hsv_lower。\n",
    "\n",
    "Color change threshold指所指定区域内有多少比例的像素处于设定的颜色范围内"
   ]
  },
  {
   "cell_type": "code",
   "execution_count": null,
   "id": "e658c243-96b6-4c8d-b127-c83eba443414",
   "metadata": {},
   "outputs": [],
   "source": [
    "from camera_control import CameraControl\n",
    "from MKSMotor_USB import MKSMotor, MotorControlUI\n",
    "import time\n",
    "import ipywidgets as widgets\n",
    "from IPython.display import display\n",
    "import cv2\n",
    "import threading\n",
    "\n",
    "# CameraControl\n",
    "cam_control = CameraControl(digit_cam_id=0, color_cam_id=1)\n",
    "cam_control.display_UI()\n",
    "\n",
    "# Configure serial port parameters, Linux/MacOS starts with dev/tty., Windows uses \"COM3, COM5\" etc.\n",
    "port=\"COM4\"\n",
    "baudrate = 38400\n",
    "motor = MKSMotor(port=port, baudrate=baudrate)  # Motor initialization\n",
    "motor_ui = MotorControlUI(motor)\n",
    "motor_ui.display_controls()\n"
   ]
  },
  {
   "cell_type": "markdown",
   "id": "ad723a37-4f6c-4bd5-b68b-5ab94ed40239",
   "metadata": {},
   "source": [
    "## Ready to go competition\n",
    "### Step 1: Configure your MNIST algorithm\n",
    "请先加载你的MNIST模型，请使用作业中的格式，以便加载"
   ]
  },
  {
   "cell_type": "code",
   "execution_count": 17,
   "id": "d53755fa-a5bd-4ce9-89d9-94597a9229d7",
   "metadata": {},
   "outputs": [],
   "source": [
    "# put your trained homework here!\n",
    "# 请加载自己的模型\n",
    "# from nn import NeuralNetwork\n",
    "# mnist_model = NeuralNetwork.load_model(\"trained_model.pkl\")"
   ]
  },
  {
   "cell_type": "markdown",
   "id": "acfd3c1f-6daf-4706-8de7-271c92ba1fe9",
   "metadata": {},
   "source": [
    "Test your model before going forward!\n",
    "\n",
    "在这里先测试一下你的模型，以确保模型正常工作。"
   ]
  },
  {
   "cell_type": "code",
   "execution_count": 1,
   "id": "939fafa7-c94f-4b05-a501-7fed2fdbc5ba",
   "metadata": {},
   "outputs": [
    {
     "name": "stdout",
     "output_type": "stream",
     "text": [
      "Your model failed to predict.\n"
     ]
    },
    {
     "data": {
      "image/png": "[encoded data removed]",
      "text/plain": [
       "<Figure size 1000x400 with 10 Axes>"
      ]
     },
     "metadata": {},
     "output_type": "display_data"
    }
   ],
   "source": [
    "from mnist_model_test import random_read_mnist_csv, MNIST_nn_dummy, plot_images\n",
    "\n",
    "csv_file = \"mnist_sample.csv\"  \n",
    "selected_images, selected_labels = random_read_mnist_csv(csv_file)\n",
    "# ------------ 在这里替换你的模型 --------------- #\n",
    "mnist_model = MNIST_nn_dummy()\n",
    "# ------------ 在这里替换你的模型 --------------- #\n",
    "pred_labels = []\n",
    "for img in selected_images:\n",
    "    pred_labels.append(mnist_model.predict(img))\n",
    "\n",
    "if pred_labels[0] == 0:\n",
    "    print(\"Your model correctly predicted the '0' digit.\")\n",
    "else:\n",
    "    print(\"Your model failed to predict.\")\n",
    "    \n",
    "plot_images(selected_images, selected_labels, pred_labels)"
   ]
  },
  {
   "cell_type": "markdown",
   "id": "e5f92674-d8df-4d29-88a4-c9d9d3fffa77",
   "metadata": {},
   "source": [
    "### Step 2: Run for target digit"
   ]
  },
  {
   "cell_type": "code",
   "execution_count": 10,
   "id": "a2dabca2-e4a5-4bed-9bfa-afc8196fa943",
   "metadata": {
    "scrolled": true
   },
   "outputs": [
    {
     "data": {
      "application/vnd.jupyter.widget-view+json": {
       "model_id": "a64cdcc4329348f082fd861d5d0b315a",
       "version_major": 2,
       "version_minor": 0
      },
      "text/plain": [
       "VBox(children=(HBox(children=(VBox(children=(HTML(value='<b>Contest Controls</b>'), IntText(value=7, descripti…"
      ]
     },
     "metadata": {},
     "output_type": "display_data"
    }
   ],
   "source": [
    "# A text box for the user to set the desired digit to find\n",
    "target_digit_input = widgets.IntText(value=7, description=\"Target Digit\")\n",
    "\n",
    "# Labels to display real-time info\n",
    "dot_label = widgets.Label(value=\"dot_in_center: False\")\n",
    "predict_label = widgets.Label(value=\"Predicted Digit: -\")\n",
    "\n",
    "# Show final results\n",
    "time_label = widgets.Label(value=\"Elapsed Time: - s\")\n",
    "pos_label  = widgets.Label(value=\"Motor Position: - mm\")\n",
    "\n",
    "# Output area for logs\n",
    "output_area = widgets.Output()\n",
    "\n",
    "# Button to start the \"contest\"\n",
    "run_contest_button = widgets.Button(description=\"Run Contest\", button_style='info')\n",
    "\n",
    "# State control for the background process\n",
    "contest_running = False\n",
    "contest1_stop_elapsed = None\n",
    "contest1_stop_pos = None\n",
    "\n",
    "def run_contest_button_clicked(_):\n",
    "    global contest_running\n",
    "    if contest_running:\n",
    "        with output_area:\n",
    "            output_area.clear_output(wait=True)\n",
    "            print(\"Contest is already running!\")\n",
    "        return\n",
    "    contest_running = True\n",
    "    contest_loop()\n",
    "\n",
    "def contest_loop():\n",
    "    global contest_running, contest1_stop_elapsed, contest1_stop_pos\n",
    "    with output_area:\n",
    "        output_area.clear_output(wait=True)\n",
    "        print(f\"Motor is going home first!\")\n",
    "    motor.emergency_stop()\n",
    "    motor.go_home()\n",
    "    # Clear outputs\n",
    "    with output_area:\n",
    "        print(\"Starting contest... Make sure motor is homed & camera is running!\")\n",
    "    \n",
    "\n",
    "    # For demonstration, let's run the motor at the current UI param values\n",
    "    dire = motor_ui.dire_input.value\n",
    "    acc  = motor_ui.acc_input.value\n",
    "    spd  = motor_ui.speed_input.value\n",
    "\n",
    "    # Start motor in continuous speed mode\n",
    "    run_result = motor.run_motor(dire, acc, spd)\n",
    "    max_time = 320 / 40 / spd * 60 # stop motor at the end in case of failing to detect\n",
    "    with output_area:\n",
    "        print(f\"Motor started: {run_result}\")\n",
    "    start_time = time.time()\n",
    "    # Poll the camera in a loop\n",
    "    while contest_running:\n",
    "        elapsed = time.time() - start_time\n",
    "        # Record time\n",
    "        time_label.value = f\"Elapsed Time: {elapsed:.2f} s\"\n",
    "        # dot_in_center, color_change, nn_input_img\n",
    "        dot_in_center, _, nn_input_img = cam_control.get_data()\n",
    "        # Update label in UI\n",
    "        # print(nn_input_img.shape)\n",
    "        dot_label.value = f\"dot_in_center: {dot_in_center}\"\n",
    "\n",
    "        if dot_in_center:\n",
    "            if nn_input_img is not None:\n",
    "                # ------------------ Predict digit --------------------- #\n",
    "                pred_digit = mnist_model.predict(nn_input_img)\n",
    "                predict_label.value = f\"Predicted Digit: {pred_digit}\"\n",
    "                # ------------------------------------------------------ #\n",
    "                # Check if predicted == target\n",
    "                if pred_digit == target_digit_input.value:\n",
    "                    # Stop motor\n",
    "                    motor.emergency_stop()\n",
    "                    # Read final motor position\n",
    "                    pos = motor.read_physical_position()\n",
    "                    pos_label.value = f\"Motor Position: {pos:.2f} mm\"\n",
    "    \n",
    "                    contest1_stop_elapsed = elapsed\n",
    "                    contest1_stop_pos = pos \n",
    "                    with output_area:\n",
    "                        print(f\"Target digit {pred_digit} found -> motor stopped.\")\n",
    "                        print(f\"Time: {elapsed:.2f}s, Position: {pos:.2f} mm\")\n",
    "    \n",
    "                    contest_running = False\n",
    "                    break\n",
    "            else:\n",
    "                predict_label.value = f\"Predicted Digit: No image extracted!\"\n",
    "                    \n",
    "        if elapsed > max_time:\n",
    "            contest_running = False\n",
    "            motor.emergency_stop()\n",
    "            pos = motor.read_physical_position()\n",
    "            with output_area:\n",
    "                print(f\"Failed to detect the number. Motor stopped due to max distance reached: {pos:.2f} mm.\")\n",
    "            break\n",
    "        time.sleep(0.2)  \n",
    "\n",
    "    with output_area:\n",
    "        print(\"Contest ended!\")\n",
    "\n",
    "\n",
    "run_contest_button.on_click(run_contest_button_clicked)\n",
    "\n",
    "\n",
    "# Build Two-Column UI\n",
    "left_col = widgets.VBox([\n",
    "    widgets.HTML(\"<b>Contest Controls</b>\"),\n",
    "    target_digit_input,\n",
    "    run_contest_button\n",
    "])\n",
    "\n",
    "right_col = widgets.VBox([\n",
    "    widgets.HTML(\"<b>Contest Status</b>\"),\n",
    "    dot_label,\n",
    "    predict_label,\n",
    "    time_label,\n",
    "    pos_label,\n",
    "])\n",
    "\n",
    "ui_box = widgets.VBox([widgets.HBox([left_col, right_col]), output_area])\n",
    "display(ui_box)"
   ]
  },
  {
   "cell_type": "markdown",
   "id": "860d631a-37d1-4f20-b234-cadbcdf1f15f",
   "metadata": {},
   "source": [
    "### Step 3: Configure your chemistry timing algorithm"
   ]
  },
  {
   "cell_type": "code",
   "execution_count": 11,
   "id": "a53d2866-80ee-40ee-966a-e173d9eed5b5",
   "metadata": {},
   "outputs": [
    {
     "name": "stdout",
     "output_type": "stream",
     "text": [
      "The desired composition of solution should be 8 g.\n"
     ]
    }
   ],
   "source": [
    "# from xxx import composition_pred\n",
    "\n",
    "def composition_pred(target_time):\n",
    "    import random\n",
    "    return random.randint(0,9)\n",
    "\n",
    "target_time = 10 # s\n",
    "print(f'The desired composition of solution should be {composition_pred(target_time)} g.')"
   ]
  },
  {
   "cell_type": "markdown",
   "id": "450764de-1aaf-4b01-a0d1-448649ec88a9",
   "metadata": {},
   "source": [
    "### Step 4: Run for target timing"
   ]
  },
  {
   "cell_type": "code",
   "execution_count": 12,
   "id": "07971a4d-a542-4bf2-a6ad-688b0425c9bf",
   "metadata": {},
   "outputs": [
    {
     "data": {
      "application/vnd.jupyter.widget-view+json": {
       "model_id": "113a15e0ea824e11b3e2fc3bf426a59b",
       "version_major": 2,
       "version_minor": 0
      },
      "text/plain": [
       "VBox(children=(HBox(children=(VBox(children=(HTML(value='<b>Contest Controls</b>'), Button(button_style='info'…"
      ]
     },
     "metadata": {},
     "output_type": "display_data"
    }
   ],
   "source": [
    "# Show final results\n",
    "time_label = widgets.Label(value=\"Elapsed Time: - s\")\n",
    "pos_label  = widgets.Label(value=\"Motor Position: - mm\")\n",
    "\n",
    "# Output area for logs\n",
    "output_area = widgets.Output()\n",
    "\n",
    "# Button to start the \"contest\"\n",
    "run_contest_button = widgets.Button(description=\"Run Contest\", button_style='info')\n",
    "\n",
    "# State control for the background process\n",
    "contest_running = False\n",
    "contest2_stop_elapsed = None\n",
    "contest2_stop_pos = None\n",
    "\n",
    "def run_contest_button_clicked(_):\n",
    "    global contest_running\n",
    "    if contest_running:\n",
    "        with output_area:\n",
    "            output_area.clear_output(wait=True)\n",
    "            print(\"Contest is already running!\")\n",
    "        return\n",
    "    contest_running = True\n",
    "    contest_loop()\n",
    "\n",
    "def contest_loop():\n",
    "    global contest_running, contest2_stop_elapsed, contest2_stop_pos\n",
    "    with output_area:\n",
    "        output_area.clear_output(wait=True)\n",
    "        print(f\"Motor is going home first!\")\n",
    "    motor.emergency_stop()\n",
    "    motor.go_home()\n",
    "    # Clear outputs\n",
    "    with output_area:\n",
    "        output_area.clear_output(wait=True)\n",
    "        print(\"Starting contest... Make sure motor is homed & camera is running!\")\n",
    "    \n",
    "    # Example: read motor UI param values\n",
    "    dire = motor_ui.dire_input.value\n",
    "    acc  = motor_ui.acc_input.value\n",
    "    spd  = motor_ui.speed_input.value\n",
    "    max_time = 320 / 40 / spd * 60 # stop motor at the end in case of failing to detect\n",
    "    # Start motor in continuous speed mode\n",
    "    run_result = motor.run_motor(dire, acc, spd)\n",
    "    with output_area:\n",
    "        print(f\"Motor started: {run_result}\")\n",
    "\n",
    "    start_time = time.time()\n",
    "\n",
    "    # Poll the camera in a loop\n",
    "    while contest_running:\n",
    "        elapsed = time.time() - start_time\n",
    "        time_label.value = f\"Elapsed Time: {elapsed:.2f} s\"\n",
    "\n",
    "        # dot_in_center, color_change, nn_input_img\n",
    "        _, color_change, _ = cam_control.get_data()\n",
    "\n",
    "        if color_change:\n",
    "            motor.emergency_stop()\n",
    "            pos = motor.read_physical_position()\n",
    "            contest2_stop_elapsed = elapsed\n",
    "            contest2_stop_pos = pos \n",
    "            pos_label.value = f\"Motor Position: {pos:.2f} mm\"\n",
    "            with output_area:\n",
    "                print(f\"Color changed => motor stopped.\")\n",
    "                print(f\"Time: {elapsed:.2f}s, Position: {pos:.2f} mm\")\n",
    "            \n",
    "            contest_running = False\n",
    "            break\n",
    "        if elapsed > max_time:\n",
    "            contest_running = False\n",
    "            motor.emergency_stop()\n",
    "            pos = motor.read_physical_position()\n",
    "            with output_area:\n",
    "                print(f\"Failed to detect the number. Motor stopped due to max distance reached: {pos:.2f} mm.\")\n",
    "            break\n",
    "        time.sleep(0.2)  # check once per second\n",
    "\n",
    "    with output_area:\n",
    "        print(\"Contest ended!\")\n",
    "\n",
    "run_contest_button.on_click(run_contest_button_clicked)\n",
    "\n",
    "# -------------------------\n",
    "# Build Two-Column UI\n",
    "# -------------------------\n",
    "left_col = widgets.VBox([\n",
    "    widgets.HTML(\"<b>Contest Controls</b>\"),\n",
    "    run_contest_button\n",
    "])\n",
    "\n",
    "right_col = widgets.VBox([\n",
    "    widgets.HTML(\"<b>Contest Status</b>\"),\n",
    "    time_label,\n",
    "    pos_label,\n",
    "])\n",
    "\n",
    "ui_box = widgets.VBox([widgets.HBox([left_col, right_col]), output_area])\n",
    "display(ui_box)"
   ]
  },
  {
   "cell_type": "markdown",
   "id": "3a905551-09a0-4516-a8ba-b4f490fe912b",
   "metadata": {},
   "source": [
    "### Step 5: Results calculation"
   ]
  },
  {
   "cell_type": "code",
   "execution_count": 14,
   "id": "4d8df193-4e98-41a6-933d-687fb57ae26c",
   "metadata": {},
   "outputs": [
    {
     "name": "stdout",
     "output_type": "stream",
     "text": [
      "You must run each step sequentially before calculating your contest results!\n"
     ]
    }
   ],
   "source": [
    "if contest1_stop_pos is None or contest2_stop_pos is None:\n",
    "    print('You must run each step sequentially before calculating your contest results!')\n",
    "else:\n",
    "    print(f'The difference between two runs is {abs(contest2_stop_pos-contest1_stop_pos)} mm! Thank you!')"
   ]
  }
 ],
 "metadata": {
  "kernelspec": {
   "display_name": "Python 3",
   "language": "python",
   "name": "python3"
  },
  "language_info": {
   "codemirror_mode": {
    "name": "ipython",
    "version": 3
   },
   "file_extension": ".py",
   "mimetype": "text/x-python",
   "name": "python",
   "nbconvert_exporter": "python",
   "pygments_lexer": "ipython3",
   "version": "3.13.3"
  }
 },
 "nbformat": 4,
 "nbformat_minor": 5
}
