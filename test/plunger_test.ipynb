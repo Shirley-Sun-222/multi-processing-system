{
 "cells": [
  {
   "cell_type": "code",
   "execution_count": null,
   "id": "6be9c208",
   "metadata": {},
   "outputs": [],
   "source": [
    "# plunger_pump_controller.py\n",
    "\n",
    "import time\n",
    "from pymodbus.client import ModbusSerialClient\n",
    "from pymodbus.exceptions import ModbusException"
   ]
  },
  {
   "cell_type": "code",
   "execution_count": null,
   "id": "2cf1b77b",
   "metadata": {},
   "outputs": [],
   "source": [
    "class OushishengPlungerPump:\n",
    "    \"\"\"\n",
    "    一个通过 RS485 和 Modbus RTU 协议控制欧世盛 (Oushisheng) 柱塞泵的类。\n",
    "\n",
    "    此类的实现基于 \"柱塞泵.pdf\" 说明文件。\n",
    "    通讯配置: 9600 波特率, N (无校验), 8 数据位, 1 停止位。\n",
    "    \"\"\"\n",
    "\n",
    "    def __init__(self, port, unit=1, baudrate=9600, timeout=1):\n",
    "        \"\"\"\n",
    "        初始化用于串口通讯的 Modbus 客户端。\n",
    "\n",
    "        :param port: 串口端口 (例如，在 Windows 上是 'COM3'，在 Linux 上是 '/dev/ttyUSB0')。\n",
    "        :param unit: 泵的 Modbus 从机地址 (slave ID)。有效范围 1-254。\n",
    "        :param baudrate: 波特率，默认为 9600。\n",
    "        :param timeout: 通讯超时时间（秒）。\n",
    "        \"\"\"\n",
    "        self.client = ModbusSerialClient(\n",
    "            port=port,\n",
    "            baudrate=baudrate,\n",
    "            timeout=timeout,\n",
    "            parity='N',\n",
    "            stopbits=1,\n",
    "            bytesize=8\n",
    "        )\n",
    "        self.unit = unit\n",
    "\n",
    "    def connect(self):\n",
    "        \"\"\"建立与串口的连接。\"\"\"\n",
    "        print(\"正在连接柱塞泵...\")\n",
    "        if self.client.connect():\n",
    "            print(\"连接成功。\")\n",
    "            return True\n",
    "        else:\n",
    "            print(\"连接失败。\")\n",
    "            return False\n",
    "\n",
    "    def close(self):\n",
    "        \"\"\"关闭串口连接。\"\"\"\n",
    "        print(\"正在关闭连接。\")\n",
    "        self.client.close()\n",
    "\n",
    "    def _write_register(self, address, value):\n",
    "        \"\"\"通用的写入寄存器内部函数。\"\"\"\n",
    "        try:\n",
    "            # 协议使用 0x06 功能码写入单一寄存器。\n",
    "            response = self.client.write_register(address, value, device_id=self.unit)\n",
    "            if response.isError():\n",
    "                raise ModbusException(f\"写入寄存器 {address} 失败\")\n",
    "            return True\n",
    "        except ModbusException as e:\n",
    "            print(f\"错误: {e}\")\n",
    "            return False\n",
    "\n",
    "    def _read_register(self, address):\n",
    "        \"\"\"通用的读取寄存器内部函数。\"\"\"\n",
    "        try:\n",
    "            # 协议使用 0x03 功能码读取寄存器。\n",
    "            response = self.client.read_holding_registers(address, 1, device_id=self.unit)\n",
    "            if response.isError():\n",
    "                raise ModbusException(f\"读取寄存器 {address} 失败\")\n",
    "            return response.registers[0]\n",
    "        except ModbusException as e:\n",
    "            print(f\"错误: {e}\")\n",
    "            return None\n",
    "\n",
    "    def set_flow_rate(self, flow_ml_min):\n",
    "        \"\"\"\n",
    "        设定泵的目标流量。\n",
    "\n",
    "        :param flow_ml_min: 流量值 (ml/min)。说明书单位为 0.001 ml/min。\n",
    "        \"\"\"\n",
    "        address = 1\n",
    "        # 根据说明书，数据需乘以 1000\n",
    "        value = int(flow_ml_min * 1000)\n",
    "        print(f\"设定流量为 {flow_ml_min} ml/min (发送值: {value})...\")\n",
    "        if self._write_register(address, value):\n",
    "            print(\"流量设定成功。\")\n",
    "            return True\n",
    "        return False\n",
    "\n",
    "    def set_pressure_limit(self, pressure_mpa):\n",
    "        \"\"\"\n",
    "        设定泵的压力上限。\n",
    "\n",
    "        :param pressure_mpa: 压力值 (MPa)。说明书单位为 0.1 MPa。\n",
    "        \"\"\"\n",
    "        address = 2\n",
    "        # 根据说明书，数据需乘以 10\n",
    "        value = int(pressure_mpa * 10)\n",
    "        print(f\"设定压力上限为 {pressure_mpa} MPa (发送值: {value})...\")\n",
    "        if self._write_register(address, value):\n",
    "            print(\"压力上限设定成功。\")\n",
    "            return True\n",
    "        return False\n",
    "\n",
    "    def start_pump(self):\n",
    "        \"\"\"启动泵。\"\"\"\n",
    "        address = 5\n",
    "        print(\"正在启动泵...\")\n",
    "        if self._write_register(address, 1):\n",
    "            print(\"泵已启动。\")\n",
    "            return True\n",
    "        return False\n",
    "\n",
    "    def stop_pump(self):\n",
    "        \"\"\"停止泵。\"\"\"\n",
    "        address = 7\n",
    "        print(\"正在停止泵...\")\n",
    "        if self._write_register(address, 1):\n",
    "            print(\"泵已停止。\")\n",
    "            return True\n",
    "        return False\n",
    "\n",
    "    def zero_pressure(self):\n",
    "        \"\"\"将压力读数清零。\"\"\"\n",
    "        address = 8\n",
    "        print(\"正在将压力清零...\")\n",
    "        if self._write_register(address, 1):\n",
    "            print(\"压力已清零。\")\n",
    "            return True\n",
    "        return False\n",
    "\n",
    "    def read_pressure(self):\n",
    "        \"\"\"\n",
    "        读取当前的压力值。\n",
    "\n",
    "        :return: 当前压力 (MPa)，或在失败时返回 None。\n",
    "        \"\"\"\n",
    "        address = 4\n",
    "        # print(\"正在读取当前压力...\") # 为避免运行时重复打印，可注释掉\n",
    "        value = self._read_register(address)\n",
    "        if value is not None:\n",
    "            # 根据说明书，读取值需除以 10\n",
    "            pressure = value / 10.0\n",
    "            print(f\"当前压力: {pressure:.2f} MPa\")\n",
    "            return pressure\n",
    "        return None\n",
    "\n",
    "    def is_running(self):\n",
    "        \"\"\"\n",
    "        检查泵的运行状态。\n",
    "\n",
    "        :return: 如果正在运行返回 True，否则返回 False。\n",
    "        \"\"\"\n",
    "        address = 0x0E # 寄存器地址 E\n",
    "        print(\"正在读取运行状态...\")\n",
    "        value = self._read_register(address)\n",
    "        if value is not None:\n",
    "            running = (value == 1)\n",
    "            print(f\"泵是否在运行: {running}\")\n",
    "            return running\n",
    "        return None\n",
    "\n",
    "    def read_set_flow_rate(self):\n",
    "        \"\"\"\n",
    "        读取已设定的流量值。\n",
    "\n",
    "        :return: 已设定的流量 (ml/min)，或在失败时返回 None。\n",
    "        \"\"\"\n",
    "        address = 0x0B # 寄存器地址 B\n",
    "        print(\"正在读取设定的流量...\")\n",
    "        value = self._read_register(address)\n",
    "        if value is not None:\n",
    "            # 读取值需除以 1000\n",
    "            flow_rate = value / 1000.0\n",
    "            print(f\"已设定流量: {flow_rate:.3f} ml/min\")\n",
    "            return flow_rate\n",
    "        return None\n",
    "\n",
    "    def read_set_pressure_limit(self):\n",
    "        \"\"\"\n",
    "        读取已设定的压力上限。\n",
    "\n",
    "        :return: 已设定的压力上限 (MPa)，或在失败时返回 None。\n",
    "        \"\"\"\n",
    "        address = 0x0C # 寄存器地址 C\n",
    "        print(\"正在读取设定的压力上限...\")\n",
    "        value = self._read_register(address)\n",
    "        if value is not None:\n",
    "            # 读取值需除以 10\n",
    "            pressure_limit = value / 10.0\n",
    "            print(f\"已设定压力上限: {pressure_limit:.1f} MPa\")\n",
    "            return pressure_limit\n",
    "        return None\n",
    "\n",
    "    def read_alarm_code(self):\n",
    "        \"\"\"\n",
    "        读取目前的警报代码。\n",
    "\n",
    "        :return: 描述警报的字符串，或在失败时返回 None。\n",
    "        \"\"\"\n",
    "        address = 0x0D # 寄存器地址 D\n",
    "        print(\"正在读取警报代码...\")\n",
    "        value = self._read_register(address)\n",
    "        if value is not None:\n",
    "            alarms = {\n",
    "                0x0000: \"无故障\",\n",
    "                0x0080: \"超压\",\n",
    "                0x10040: \"系统故障\",\n",
    "                0x100C0: \"系统故障与超压\"\n",
    "            }\n",
    "            alarm_status = alarms.get(value, f\"未知代码: {hex(value)}\")\n",
    "            print(f\"警报状态: {alarm_status}\")\n",
    "            return alarm_status\n",
    "        return None\n",
    "    \n",
    "    def set_device_address(self, new_address):\n",
    "        \"\"\"\n",
    "        设定泵的新 Modbus 地址。\n",
    "        !!! 警告: 执行此操作时，Modbus 总线上只应连接一台设备。\n",
    "\n",
    "        :param new_address: 新的地址 (1-254)。\n",
    "        \"\"\"\n",
    "        if not 1 <= new_address <= 254:\n",
    "            print(\"错误：地址必须在 1 到 254 之间。\")\n",
    "            return False\n",
    "            \n",
    "        address = 9\n",
    "        universal_address = 0x55 # 十进制 85\n",
    "        print(f\"警告：正在使用通用地址 {universal_address} 设定新地址为 {new_address}...\")\n",
    "        print(\"请确保总线上只有一台设备！\")\n",
    "        \n",
    "        try:\n",
    "            response = self.client.write_register(address, new_address, device_id=universal_address)\n",
    "            if response.isError():\n",
    "                raise ModbusException(f\"设定新地址失败\")\n",
    "            print(f\"地址设定成功。请使用新地址 {new_address} 与泵通讯。\")\n",
    "            # 更新当前对象的地址以匹配新地址\n",
    "            self.unit = new_address\n",
    "            return True\n",
    "        except ModbusException as e:\n",
    "            print(f\"错误: {e}\")\n",
    "            return False\n",
    "\n",
    "\n",
    "\n",
    "        "
   ]
  },
  {
   "cell_type": "code",
   "execution_count": null,
   "id": "dc6d1fac",
   "metadata": {},
   "outputs": [],
   "source": [
    "# 重要提示：请将 'COM_PORT' 替换为您的实际串口名称。\n",
    "COM_PORT = 'COM_PORT' # <-- 修改这里\n",
    "# 这是您要通讯的泵的地址。出厂默认通常是 1。\n",
    "PUMP_ADDRESS = 1\n",
    "if COM_PORT == 'COM_PORT':\n",
    "    print(\"请编辑此脚本并设置 COM_PORT 变量。\")\n",
    "else:\n",
    "    pump = OushishengPlungerPump(port=COM_PORT, unit=PUMP_ADDRESS)"
   ]
  },
  {
   "cell_type": "code",
   "execution_count": null,
   "id": "da0cf4a2",
   "metadata": {},
   "outputs": [
    {
     "name": "stdout",
     "output_type": "stream",
     "text": [
      "正在连接设备...\n",
      "连接成功。\n"
     ]
    },
    {
     "data": {
      "text/plain": [
       "True"
      ]
     },
     "execution_count": 4,
     "metadata": {},
     "output_type": "execute_result"
    }
   ],
   "source": [
    "#连接电机\n",
    "pump.connect()"
   ]
  },
  {
   "cell_type": "code",
   "execution_count": null,
   "id": "8de55704",
   "metadata": {},
   "outputs": [
    {
     "name": "stdout",
     "output_type": "stream",
     "text": [
      "正在启动泵...\n",
      "泵状态更改成功。\n"
     ]
    },
    {
     "data": {
      "text/plain": [
       "True"
      ]
     },
     "execution_count": 5,
     "metadata": {},
     "output_type": "execute_result"
    }
   ],
   "source": [
    "# --- 读取初始状态 ---\n",
    "print(\"\\n--- 读取初始状态 ---\")\n",
    "pump.is_running()\n",
    "pump.read_set_flow_rate()\n",
    "pump.read_pressure()\n",
    "pump.read_alarm_code()\n",
    "time.sleep(1)"
   ]
  },
  {
   "cell_type": "code",
   "execution_count": null,
   "id": "e6941090",
   "metadata": {},
   "outputs": [
    {
     "name": "stdout",
     "output_type": "stream",
     "text": [
      "设置方向为 正转...\n",
      "方向设置成功。\n",
      "设置转速为 100 RPM...\n",
      "转速设置成功。\n"
     ]
    },
    {
     "data": {
      "text/plain": [
       "True"
      ]
     },
     "execution_count": 84,
     "metadata": {},
     "output_type": "execute_result"
    }
   ],
   "source": [
    "# --- 设定新参数 ---\n",
    "print(\"\\n--- 设定新参数 ---\")\n",
    "pump.set_flow_rate(5.0)  # 设定流量为 5.0 ml/min\n",
    "time.sleep(0.5)\n",
    "pump.set_pressure_limit(20.0) # 设定压力上限为 20.0 MPa\n",
    "time.sleep(1)"
   ]
  },
  {
   "cell_type": "code",
   "execution_count": null,
   "id": "f6c0029f",
   "metadata": {},
   "outputs": [
    {
     "name": "stdout",
     "output_type": "stream",
     "text": [
      "正在读取实时转速...\n",
      "当前转速是: 100.00 RPM\n"
     ]
    },
    {
     "data": {
      "text/plain": [
       "100.0"
      ]
     },
     "execution_count": 6,
     "metadata": {},
     "output_type": "execute_result"
    }
   ],
   "source": [
    "# --- 启动泵并运行 5 秒 ---\n",
    "print(\"\\n--- 启动泵 5 秒 ---\")\n",
    "pump.start_pump()\n",
    "for i in range(5):\n",
    "    time.sleep(1)\n",
    "    pump.read_pressure() # 运行时持续读取压力"
   ]
  },
  {
   "cell_type": "code",
   "execution_count": null,
   "id": "614c6536",
   "metadata": {},
   "outputs": [
    {
     "name": "stdout",
     "output_type": "stream",
     "text": [
      "正在停止泵...\n",
      "泵状态更改成功。\n"
     ]
    },
    {
     "data": {
      "text/plain": [
       "True"
      ]
     },
     "execution_count": 7,
     "metadata": {},
     "output_type": "execute_result"
    }
   ],
   "source": [
    "# --- 停止泵 ---\n",
    "print(\"\\n--- 停止泵 ---\")\n",
    "pump.stop_pump()\n",
    "time.sleep(1)\n",
    "pump.is_running()\n",
    "\n"
   ]
  },
  {
   "cell_type": "code",
   "execution_count": null,
   "id": "1c89c6ce",
   "metadata": {},
   "outputs": [
    {
     "name": "stdout",
     "output_type": "stream",
     "text": [
      "正在读取实时转速...\n",
      "当前转速是: 0.00 RPM\n"
     ]
    },
    {
     "data": {
      "text/plain": [
       "0.0"
      ]
     },
     "execution_count": 8,
     "metadata": {},
     "output_type": "execute_result"
    }
   ],
   "source": [
    "# 断开电机连接\n",
    "pump.close()"
   ]
  }
 ],
 "metadata": {
  "kernelspec": {
   "display_name": "pytorch",
   "language": "python",
   "name": "python3"
  },
  "language_info": {
   "codemirror_mode": {
    "name": "ipython",
    "version": 3
   },
   "file_extension": ".py",
   "mimetype": "text/x-python",
   "name": "python",
   "nbconvert_exporter": "python",
   "pygments_lexer": "ipython3",
   "version": "3.13.3"
  }
 },
 "nbformat": 4,
 "nbformat_minor": 5
}
