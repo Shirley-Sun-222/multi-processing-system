{
 "cells": [
  {
   "cell_type": "code",
   "execution_count": null,
   "id": "6be9c208",
   "metadata": {},
   "outputs": [],
   "source": [
    "import time\n",
    "import struct\n",
    "from pymodbus.client.serial import ModbusSerialClient\n",
    "from pymodbus.exceptions import ModbusException\n"
   ]
  },
  {
   "cell_type": "code",
   "execution_count": 2,
   "id": "2cf1b77b",
   "metadata": {},
   "outputs": [],
   "source": [
    "class KamoerPulseController:\n",
    "    \"\"\"\n",
    "    Kamoer 2802 脉冲发生控制板控制器\n",
    "    \"\"\"\n",
    "\n",
    "    def __init__(self, port, unit=192, baudrate=9600, timeout=1):\n",
    "        self.client = ModbusSerialClient(\n",
    "            port=port,\n",
    "            baudrate=baudrate,\n",
    "            timeout=timeout,\n",
    "            parity='N',\n",
    "            stopbits=1,\n",
    "            bytesize=8\n",
    "        )\n",
    "        self.unit = unit\n",
    "\n",
    "    def connect(self):\n",
    "        \"\"\"建立与串口的连接。\"\"\"\n",
    "        print(\"正在连接设备...\")\n",
    "        if self.client.connect():\n",
    "            print(\"连接成功。\")\n",
    "            return True\n",
    "        else:\n",
    "            print(\"连接失败。\")\n",
    "            return False\n",
    "\n",
    "    def close(self):\n",
    "        \"\"\"关闭串口连接。\"\"\"\n",
    "        print(\"正在关闭连接。\")\n",
    "        self.client.close()\n",
    "\n",
    "    def enable_485_control(self, enable=True):\n",
    "        \"\"\"启用或禁用 485 通信控制。\"\"\"\n",
    "        address = 0x1004\n",
    "        action = \"启用\" if enable else \"禁用\"\n",
    "        print(f\"正在{action} 485 控制...\")\n",
    "        try:\n",
    "            response = self.client.write_coil(address, enable, device_id=self.unit)\n",
    "            if hasattr(response, 'isError') and response.isError():\n",
    "                raise ModbusException(f\"写入线圈 {address} 失败\")\n",
    "            print(\"485 控制设置成功。\")\n",
    "            return True\n",
    "        except Exception as e:\n",
    "            print(f\"错误: {e}\")\n",
    "            return False\n",
    "\n",
    "    def set_pump_state(self, start=True):\n",
    "        \"\"\"启动或停止泵。\"\"\"\n",
    "        address = 0x1001\n",
    "        action = \"启动\" if start else \"停止\"\n",
    "        print(f\"正在{action}泵...\")\n",
    "        try:\n",
    "            response = self.client.write_coil(address, start, device_id=self.unit)\n",
    "            if hasattr(response, 'isError') and response.isError():\n",
    "                raise ModbusException(f\"写入线圈 {address} 失败\")\n",
    "            print(\"泵状态更改成功。\")\n",
    "            return True\n",
    "        except Exception as e:\n",
    "            print(f\"错误: {e}\")\n",
    "            return False\n",
    "\n",
    "    def set_direction(self, direction='forward'):\n",
    "        \"\"\"设置电机的旋转方向。\"\"\"\n",
    "        address = 0x1003\n",
    "        value = (direction.lower() == 'reverse')\n",
    "        print(f\"设置方向为 {'反转' if value else '正转'}...\")\n",
    "        try:\n",
    "            response = self.client.write_coil(address, value, device_id=self.unit)\n",
    "            if hasattr(response, 'isError') and response.isError():\n",
    "                raise ModbusException(f\"写入线圈 {address} 失败\")\n",
    "            print(\"方向设置成功。\")\n",
    "            return True\n",
    "        except Exception as e:\n",
    "            print(f\"错误: {e}\")\n",
    "            return False\n",
    "\n",
    "    def set_speed(self, speed_rpm):\n",
    "        \"\"\"设置泵的目标转速。\"\"\"\n",
    "        address1 = 0x3001 # 高位寄存器\n",
    "        address2 = 0x3002 # 低位寄存器\n",
    "        print(f\"设置转速为 {speed_rpm} RPM...\")\n",
    "        try:\n",
    "            # 手动将浮点数转换为两个16位寄存器值\n",
    "            float_bytes = struct.pack('>f', speed_rpm)\n",
    "            reg1 = struct.unpack('>H', float_bytes[:2])[0]\n",
    "            reg2 = struct.unpack('>H', float_bytes[2:])[0]\n",
    "            response = self.client.write_registers(address1, [reg1, reg2], device_id=self.unit)\n",
    "\n",
    "            if hasattr(response, 'isError') and response.isError():\n",
    "                raise ModbusException(f\"写入寄存器 {address1} 失败\")\n",
    "            print(\"转速设置成功。\")\n",
    "            return True\n",
    "        except Exception as e:\n",
    "            print(f\"错误: {e}\")\n",
    "            return False\n",
    "\n",
    "    def read_real_time_speed(self):\n",
    "            \"\"\"读取泵的实时转速。\"\"\"\n",
    "            # 根据手册，即时转速储存在 0x3005 (高16位) 和 0x3006 (低16位)\n",
    "            address = 0x3005\n",
    "            print(\"正在读取实时转速...\")\n",
    "            try:\n",
    "                response = self.client.read_holding_registers(\n",
    "                    address=address,\n",
    "                    count=2,  # 读取2个寄存器以组成一个32位元浮点数\n",
    "                    device_id=self.unit\n",
    "                )\n",
    "\n",
    "                if response.isError():\n",
    "                    raise ModbusException(f\"读取寄存器 {address} 时设备返回错误: {response}\")\n",
    "\n",
    "                # 检查是否成功读取到足够的数据\n",
    "                if not hasattr(response, 'registers') or len(response.registers) < 2:\n",
    "                    raise ModbusException(\"未能从设备读取到足够的寄存器数据\")\n",
    "\n",
    "                # 手动将收到的两个16位元寄存器解码为一个32位元浮点数\n",
    "                # 根据手册，数据为大端序 (Big-Endian)\n",
    "                high_word_bytes = struct.pack('>H', response.registers[0])\n",
    "                low_word_bytes = struct.pack('>H', response.registers[1])\n",
    "                float_bytes = high_word_bytes + low_word_bytes\n",
    "                speed = struct.unpack('>f', float_bytes)[0]\n",
    "\n",
    "                print(f\"当前转速是: {speed:.2f} RPM\")\n",
    "                return speed\n",
    "                \n",
    "            except ModbusException as e:\n",
    "                # 捕捉并打印 Modbus 相关的错误 (包含通讯逾时)\n",
    "                print(f\"读取转速时发生 Modbus 错误: {e}\")\n",
    "                return None\n",
    "            except Exception as e:\n",
    "                # 捕捉其他可能的错误，例如数据解析失败\n",
    "                print(f\"解析数据时发生意外错误: {e}\")\n",
    "                return None\n",
    "\n"
   ]
  },
  {
   "cell_type": "code",
   "execution_count": 3,
   "id": "dc6d1fac",
   "metadata": {},
   "outputs": [],
   "source": [
    "COM_PORT = 'COM4'  # 修改为您的实际串口\n",
    "DEVICE_ADDRESS = 192\n",
    "BAUD_RATE = 9600\n",
    "if COM_PORT == 'COM_PORT':\n",
    "    print(\"请先修改 COM_PORT 变量为您的实际串口。\")\n",
    "else:\n",
    "    controller = KamoerPulseController(\n",
    "        port=COM_PORT,\n",
    "        unit=DEVICE_ADDRESS,\n",
    "        baudrate=BAUD_RATE\n",
    "        )"
   ]
  },
  {
   "cell_type": "code",
   "execution_count": 4,
   "id": "da0cf4a2",
   "metadata": {},
   "outputs": [
    {
     "name": "stdout",
     "output_type": "stream",
     "text": [
      "正在连接设备...\n",
      "连接成功。\n"
     ]
    },
    {
     "data": {
      "text/plain": [
       "True"
      ]
     },
     "execution_count": 4,
     "metadata": {},
     "output_type": "execute_result"
    }
   ],
   "source": [
    "#连接电机\n",
    "controller.connect()"
   ]
  },
  {
   "cell_type": "code",
   "execution_count": 75,
   "id": "f581ff4d",
   "metadata": {},
   "outputs": [
    {
     "name": "stdout",
     "output_type": "stream",
     "text": [
      "正在启用 485 控制...\n",
      "485 控制设置成功。\n"
     ]
    },
    {
     "data": {
      "text/plain": [
       "True"
      ]
     },
     "execution_count": 75,
     "metadata": {},
     "output_type": "execute_result"
    }
   ],
   "source": [
    "# 使能485\n",
    "controller.enable_485_control()"
   ]
  },
  {
   "cell_type": "code",
   "execution_count": 5,
   "id": "8de55704",
   "metadata": {},
   "outputs": [
    {
     "name": "stdout",
     "output_type": "stream",
     "text": [
      "正在启动泵...\n",
      "泵状态更改成功。\n"
     ]
    },
    {
     "data": {
      "text/plain": [
       "True"
      ]
     },
     "execution_count": 5,
     "metadata": {},
     "output_type": "execute_result"
    }
   ],
   "source": [
    "# 开启电机\n",
    "controller.set_pump_state(start=True)"
   ]
  },
  {
   "cell_type": "code",
   "execution_count": 84,
   "id": "e6941090",
   "metadata": {},
   "outputs": [
    {
     "name": "stdout",
     "output_type": "stream",
     "text": [
      "设置方向为 正转...\n",
      "方向设置成功。\n",
      "设置转速为 100 RPM...\n",
      "转速设置成功。\n"
     ]
    },
    {
     "data": {
      "text/plain": [
       "True"
      ]
     },
     "execution_count": 84,
     "metadata": {},
     "output_type": "execute_result"
    }
   ],
   "source": [
    "# 设置电机方向\n",
    "controller.set_direction('forward')\n",
    "# 设置电机转速\n",
    "controller.set_speed(100)  # 设置为 100 RPM"
   ]
  },
  {
   "cell_type": "code",
   "execution_count": 6,
   "id": "f6c0029f",
   "metadata": {},
   "outputs": [
    {
     "name": "stdout",
     "output_type": "stream",
     "text": [
      "正在读取实时转速...\n",
      "当前转速是: 100.00 RPM\n"
     ]
    },
    {
     "data": {
      "text/plain": [
       "100.0"
      ]
     },
     "execution_count": 6,
     "metadata": {},
     "output_type": "execute_result"
    }
   ],
   "source": [
    "# 实时读取数据\n",
    "controller.read_real_time_speed()"
   ]
  },
  {
   "cell_type": "code",
   "execution_count": 7,
   "id": "614c6536",
   "metadata": {},
   "outputs": [
    {
     "name": "stdout",
     "output_type": "stream",
     "text": [
      "正在停止泵...\n",
      "泵状态更改成功。\n"
     ]
    },
    {
     "data": {
      "text/plain": [
       "True"
      ]
     },
     "execution_count": 7,
     "metadata": {},
     "output_type": "execute_result"
    }
   ],
   "source": [
    "# 关闭电机\n",
    "controller.set_pump_state(start=False)\n"
   ]
  },
  {
   "cell_type": "code",
   "execution_count": 8,
   "id": "1c89c6ce",
   "metadata": {},
   "outputs": [
    {
     "name": "stdout",
     "output_type": "stream",
     "text": [
      "正在读取实时转速...\n",
      "当前转速是: 0.00 RPM\n"
     ]
    },
    {
     "data": {
      "text/plain": [
       "0.0"
      ]
     },
     "execution_count": 8,
     "metadata": {},
     "output_type": "execute_result"
    }
   ],
   "source": [
    "# 实时读取数据\n",
    "controller.read_real_time_speed()"
   ]
  },
  {
   "cell_type": "code",
   "execution_count": 9,
   "id": "fa9872a1",
   "metadata": {},
   "outputs": [
    {
     "name": "stdout",
     "output_type": "stream",
     "text": [
      "正在关闭连接。\n"
     ]
    }
   ],
   "source": [
    "# 断开电机连接\n",
    "controller.close()"
   ]
  }
 ],
 "metadata": {
  "kernelspec": {
   "display_name": "pytorch",
   "language": "python",
   "name": "python3"
  },
  "language_info": {
   "codemirror_mode": {
    "name": "ipython",
    "version": 3
   },
   "file_extension": ".py",
   "mimetype": "text/x-python",
   "name": "python",
   "nbconvert_exporter": "python",
   "pygments_lexer": "ipython3",
   "version": "3.13.3"
  }
 },
 "nbformat": 4,
 "nbformat_minor": 5
}
